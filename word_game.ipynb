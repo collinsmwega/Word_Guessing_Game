{
 "cells": [
  {
   "cell_type": "code",
   "execution_count": null,
   "id": "e803650f",
   "metadata": {},
   "outputs": [],
   "source": [
    "import random"
   ]
  },
  {
   "cell_type": "code",
   "execution_count": null,
   "id": "9b01190b",
   "metadata": {},
   "outputs": [],
   "source": [
    "#define the initial variables\n",
    "\n",
    "#variable title of our game\n",
    "game_title = \"Word Game\"\n",
    "\n",
    "# set up the list of words to choose from/load our word bank in our list so that our game can have a variety of word options to select from.\n",
    "word_bank = [] \n"
   ]
  },
  {
   "cell_type": "code",
   "execution_count": null,
   "id": "d80bffd9",
   "metadata": {},
   "outputs": [],
   "source": [
    "#open a file for loading in the word_bank\n",
    "\n",
    "with open(\"word_bank.txt\") as word_file:\n",
    "    for line in word_file:\n",
    "        word = line.strip().lower() #add the word to the word bank\n",
    "        word_bank.append(word)\n",
    "\n",
    "\n"
   ]
  },
  {
   "cell_type": "code",
   "execution_count": null,
   "id": "e41ba87e",
   "metadata": {},
   "outputs": [],
   "source": [
    "# select the word to guess\n",
    "#pick a random word from the list\n",
    "word_to_guess = random.choice(word_bank)"
   ]
  },
  {
   "cell_type": "code",
   "execution_count": null,
   "id": "67a53628",
   "metadata": {},
   "outputs": [],
   "source": [
    "#define the remaining game variables\n",
    "#set up the game variables\n",
    "\n",
    "#The misplaced letters in the player's guess\n",
    "misplaced_guesses = []\n",
    "\n",
    "# the incorrect letters in the player's guess\n",
    "incorrect_guesses = []\n",
    "\n",
    "# the max number of turns we will allow\n",
    "max_turns = 5\n",
    "\n",
    "# the number of turns the player has currently made\n",
    "turns_taken = 0"
   ]
  },
  {
   "cell_type": "code",
   "execution_count": null,
   "id": "fccbaa7f",
   "metadata": {},
   "outputs": [],
   "source": [
    "#Print the current game state\n",
    "#display the initial game state\n",
    "\n",
    "#welcome the player to our game using the game title variable created above\n",
    "print(\"Welcome to\", game_title)\n",
    "#tell the player how many letters are in the word to guess\n",
    "print(\"The word has\", len(word_to_guess), \"Letters.\")\n",
    "#tell the player how many turns they have left to guess the word\n",
    "print(\"you have\", max_turns - turns_taken, \"turns left.\")"
   ]
  },
  {
   "cell_type": "code",
   "execution_count": null,
   "id": "6b387363",
   "metadata": {},
   "outputs": [],
   "source": [
    "#Build the game loop\n",
    "while turns_taken < max_turns:\n",
    "    #Get the player's guess\n",
    "    guess = input(\"Guess a word: \").lower()\n",
    "\n",
    "    #Check if the guess length equals 5 letters and is all alpha letters\n",
    "    if len(guess) != len(word_to_guess) or not guess.isalpha():\n",
    "        print(\"Please enter 5-letter word.\")\n",
    "        continue\n",
    "    #Check each letter in the guess against the word's letters\n",
    "    index = 0\n",
    "\n",
    "    # conditional statement to ensure that each letter is only added once to misplaced_guesses and incorrect_guesses\n",
    "    for c in guess:\n",
    "        if c == word_to_guess[index]:\n",
    "            print(c, end=\" \")\n",
    "    #If the letter is in the word to guess but is in an incorrect position, we should add the letter to the misplaced guesses list and print an underscore\n",
    "            if c in misplaced_guesses:\n",
    "                misplaced_guesses.remove(c) # if the letter is already in the misplaced guesses list, we should remove it so that it can be added again\n",
    "        elif c in word_to_guess:\n",
    "            if c not in misplaced_guesses:\n",
    "                misplaced_guesses.append(c) # if the letter is in the word to guess but not in the correct position, we should add it to the misplaced guesses list\n",
    "            print(\"_\", end=\" \")\n",
    "        else:\n",
    "    #If the letter is not in the word to guess at all, we should add it to the incorrect guess list and print an underscore.\n",
    "            if c not in incorrect_guesses:\n",
    "                incorrect_guesses.append(c) # if the letter is not in the word to guess at all, we should add it to the incorrect guesses list\n",
    "            print(\"_\", end=\" \")\n",
    "        index += 1 # increment the index to check the next letter in the guess\n",
    "\n",
    "    \n",
    "        print(\"\\n\") #After checking all the letters, we should print a new line\n",
    "        print(\"Misplaced letters: \", misplaced_guesses)\n",
    "        print(\"Incorrect letters: \", incorrect_guesses)\n",
    "        turns_taken += 1 # increment the number of turns taken\n",
    "\n",
    "        #Check if the player has won\n",
    "        if guess == word_to_guess:\n",
    "            print(\"Congratulations, you win!\")\n",
    "            break\n",
    "\n",
    "        #Check if the player has lost\n",
    "        if turns_taken == max_turns:\n",
    "            print(\"Sorry, you lost. The word was\", word_to_guess)\n",
    "            break\n",
    "\n",
    "        #Display the number of turns left and ask for another guess\n",
    "        print(\"You have\", max_turns - turns_taken, \"turns left. \")"
   ]
  },
  {
   "cell_type": "code",
   "execution_count": null,
   "id": "e3e1d321",
   "metadata": {},
   "outputs": [],
   "source": []
  }
 ],
 "metadata": {
  "kernelspec": {
   "display_name": "Python 3",
   "language": "python",
   "name": "python3"
  },
  "language_info": {
   "codemirror_mode": {
    "name": "ipython",
    "version": 3
   },
   "file_extension": ".py",
   "mimetype": "text/x-python",
   "name": "python",
   "nbconvert_exporter": "python",
   "pygments_lexer": "ipython3",
   "version": "3.12.4"
  }
 },
 "nbformat": 4,
 "nbformat_minor": 5
}
